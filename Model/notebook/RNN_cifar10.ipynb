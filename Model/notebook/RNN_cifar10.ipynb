{
 "cells": [
  {
   "cell_type": "code",
   "execution_count": 4,
   "metadata": {},
   "outputs": [],
   "source": [
    "import tensorflow as tf\n",
    "from tensorflow.keras.activations import *\n",
    "from tensorflow.keras.datasets import *\n",
    "from tensorflow.keras.layers import *\n",
    "from tensorflow.keras.metrics import *\n",
    "from tensorflow.keras.models import *\n",
    "from tensorflow.keras.callbacks import *\n",
    "from tensorflow.keras.optimizers import *\n",
    "from tensorflow.keras.utils import plot_model\n",
    "import numpy as np"
   ]
  },
  {
   "cell_type": "code",
   "execution_count": 5,
   "metadata": {},
   "outputs": [],
   "source": [
    "class PrintTrueTrainMetricsAtEpochEnd(Callback):\n",
    "    def __init__(self, x_train, y_train):\n",
    "        super().__init__()\n",
    "        self.x_train = x_train\n",
    "        self.y_train = y_train\n",
    "\n",
    "    def on_epoch_end(self, epoch, logs=None):\n",
    "        loss, acc = self.model.evaluate(self.x_train, self.y_train, batch_size=8192)\n",
    "        print(f\"The true train loss: {loss}\")\n",
    "        print(f\"The true acc loss: {acc}\")"
   ]
  },
  {
   "cell_type": "code",
   "execution_count": 6,
   "metadata": {},
   "outputs": [],
   "source": [
    "def create_model(data_shape):\n",
    "\n",
    "    m = Sequential()\n",
    "\n",
    "    m.add(LSTM(128, return_sequences=True,\n",
    "               activation=relu,\n",
    "               input_shape=(data_shape)))\n",
    "    m.add(Dropout(0.2))\n",
    "\n",
    "    m.add(LSTM(64,\n",
    "               return_sequences=False,\n",
    "               activation=relu))\n",
    "    m.add(Dropout(0.1))\n",
    "\n",
    "    m.add(Dense(32, activation=relu))\n",
    "    m.add(Dropout(0.2))\n",
    "\n",
    "    m.add(Dense(10, activation=softmax))\n",
    "\n",
    "    m.compile(optimizer=Adam(),\n",
    "                loss=sparse_categorical_crossentropy,\n",
    "                metrics=[sparse_categorical_crossentropy])\n",
    "\n",
    "    return m"
   ]
  },
  {
   "cell_type": "code",
   "execution_count": null,
   "metadata": {},
   "outputs": [],
   "source": [
    "tf.compat.v1.disable_eager_execution()\n",
    "\n",
    "(x_train, y_train), (x_val, y_val) = cifar10.load_data()\n",
    "\n",
    "# Normalise Dataset\n",
    "x_train = x_train / 255.0\n",
    "y_val = y_val / 255.0\n",
    "\n",
    "# Reshape Tensor\n",
    "x_train = np.reshape(x_train, (50000, 3072, 1))\n",
    "x_val = np.reshape(x_val, (10000, 3072, 1))\n",
    "\n",
    "#Create Model\n",
    "data_shape = x_train.shape[1:]\n",
    "m = create_model(data_shape=data_shape)\n",
    "\n",
    "print(m.summary())\n",
    "plot_model(m, \"test_lstm.png\")\n",
    "\n",
    "# Train\n",
    "m.fit(x_train,\n",
    "        y_train,\n",
    "        validation_data=(x_val, y_val),\n",
    "        epochs=3,\n",
    "        batch_size=64,\n",
    "        callbacks=[PrintTrueTrainMetricsAtEpochEnd(x_train, y_train)])\n"
   ]
  }
 ],
 "metadata": {
  "kernelspec": {
   "display_name": "Python 3",
   "language": "python",
   "name": "python3"
  },
  "language_info": {
   "codemirror_mode": {
    "name": "ipython",
    "version": 3
   },
   "file_extension": ".py",
   "mimetype": "text/x-python",
   "name": "python",
   "nbconvert_exporter": "python",
   "pygments_lexer": "ipython3",
   "version": "3.7.5"
  }
 },
 "nbformat": 4,
 "nbformat_minor": 2
}
