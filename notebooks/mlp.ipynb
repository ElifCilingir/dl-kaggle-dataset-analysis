{
 "cells": [
  {
   "cell_type": "markdown",
   "metadata": {
    "collapsed": true,
    "pycharm": {
     "name": "#%% md\n"
    }
   },
   "source": [
    "# <u>Perceptron multi-couches</u>"
   ]
  },
  {
   "cell_type": "markdown",
   "source": [
    "Le perceptron multi-couches est une méthode qui permet de créer un réseau de neurones qui prend en entrée des données\n",
    "à partir d'une couche d'entrée et qui nous donne à partir d'une couche de sortie autant de variables que l'on cherche\n",
    "à prédire.\n",
    "\n",
    "Nous allons voir si effectivement, le perceptron multi-couches est une méthode viable pour prédire nos différentes classes\n",
    "présentes dans le dataset CIFAR-10."
   ],
   "metadata": {
    "collapsed": false
   }
  },
  {
   "cell_type": "code",
   "execution_count": null,
   "outputs": [],
   "source": [],
   "metadata": {
    "collapsed": false,
    "pycharm": {
     "name": "#%%\n"
    }
   }
  }
 ],
 "metadata": {
  "kernelspec": {
   "display_name": "Python 3",
   "language": "python",
   "name": "python3"
  },
  "language_info": {
   "codemirror_mode": {
    "name": "ipython",
    "version": 2
   },
   "file_extension": ".py",
   "mimetype": "text/x-python",
   "name": "python",
   "nbconvert_exporter": "python",
   "pygments_lexer": "ipython2",
   "version": "2.7.6"
  },
  "pycharm": {
   "stem_cell": {
    "cell_type": "raw",
    "source": [],
    "metadata": {
     "collapsed": false
    }
   }
  }
 },
 "nbformat": 4,
 "nbformat_minor": 0
}