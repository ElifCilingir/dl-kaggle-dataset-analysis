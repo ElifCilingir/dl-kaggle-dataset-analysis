{
 "cells": [
  {
   "cell_type": "code",
   "execution_count": 46,
   "metadata": {},
   "outputs": [],
   "source": [
    "import numpy as np\n",
    "import tensorflow as tf\n",
    "from tensorflow.keras.models import *\n",
    "from tensorflow.keras.activations import *\n",
    "from tensorflow.keras.datasets import *\n",
    "from tensorflow.keras.metrics import *\n",
    "from tensorflow.keras.optimizers import *\n",
    "from tensorflow.keras.losses import *\n",
    "from tensorflow.keras.layers import *\n",
    "from matplotlib import pyplot as plt"
   ]
  },
  {
   "cell_type": "code",
   "execution_count": 47,
   "metadata": {},
   "outputs": [],
   "source": [
    "def create_model():\n",
    "\n",
    "    model = Sequential()\n",
    "    model.add(Conv2D(64, (3, 3), padding='same', activation=relu, input_shape=(32, 32, 3)))\n",
    "    model.add(MaxPool2D(2, 2))\n",
    "\n",
    "    model.add(Conv2D(64, (3, 3), padding='same', activation=relu))\n",
    "    model.add(MaxPool2D(2, 2))\n",
    "\n",
    "    model.add(Conv2D(64, (3, 3), padding='same', activation=relu))\n",
    "    model.add(MaxPool2D(2, 2))\n",
    "\n",
    "    model.add(Conv2D(64, (3, 3), padding='same', activation=relu))\n",
    "    model.add(MaxPool2D(2, 2))\n",
    "\n",
    "    model.add(Flatten())\n",
    "    model.add(Dense(10, activation=softmax))\n",
    "\n",
    "    model.compile(optimizer=Adam(),\n",
    "                  loss=categorical_crossentropy,\n",
    "                  metrics=[categorical_accuracy])\n",
    "\n",
    "    return model"
   ]
  },
  {
   "cell_type": "code",
   "execution_count": 48,
   "metadata": {},
   "outputs": [],
   "source": [
    "(x_train, y_train), (x_val, y_val) = cifar10.load_data()"
   ]
  },
  {
   "cell_type": "code",
   "execution_count": 49,
   "metadata": {},
   "outputs": [
    {
     "name": "stdout",
     "output_type": "stream",
     "text": [
      "Before reshaping ...\n",
      "(50000, 32, 32, 3)\n",
      "(10000, 1)\n"
     ]
    }
   ],
   "source": [
    "print(\"Before reshaping ...\")\n",
    "\n",
    "print(x_train.shape)\n",
    "print(y_val.shape)"
   ]
  },
  {
   "cell_type": "code",
   "execution_count": 50,
   "metadata": {},
   "outputs": [],
   "source": [
    "y_train = tf.compat.v1.keras.utils.to_categorical(y_train)\n",
    "y_val = tf.compat.v1.keras.utils.to_categorical(y_val)"
   ]
  },
  {
   "cell_type": "code",
   "execution_count": 51,
   "metadata": {},
   "outputs": [],
   "source": [
    "x_train = x_train / 255.0\n",
    "x_val = x_val/ 255.0"
   ]
  },
  {
   "cell_type": "code",
   "execution_count": 52,
   "metadata": {},
   "outputs": [
    {
     "name": "stdout",
     "output_type": "stream",
     "text": [
      "After reshaping ...\n",
      "(50000, 32, 32, 3)\n",
      "(10000, 32, 32, 3)\n"
     ]
    }
   ],
   "source": [
    "print(\"After reshaping ...\")\n",
    "\n",
    "print(x_train.shape)\n",
    "print(x_val.shape)"
   ]
  },
  {
   "cell_type": "code",
   "execution_count": 53,
   "metadata": {},
   "outputs": [
    {
     "name": "stdout",
     "output_type": "stream",
     "text": [
      "Model: \"sequential_4\"\n",
      "_________________________________________________________________\n",
      "Layer (type)                 Output Shape              Param #   \n",
      "=================================================================\n",
      "conv2d_16 (Conv2D)           (None, 32, 32, 64)        1792      \n",
      "_________________________________________________________________\n",
      "max_pooling2d_16 (MaxPooling (None, 16, 16, 64)        0         \n",
      "_________________________________________________________________\n",
      "conv2d_17 (Conv2D)           (None, 16, 16, 64)        36928     \n",
      "_________________________________________________________________\n",
      "max_pooling2d_17 (MaxPooling (None, 8, 8, 64)          0         \n",
      "_________________________________________________________________\n",
      "conv2d_18 (Conv2D)           (None, 8, 8, 64)          36928     \n",
      "_________________________________________________________________\n",
      "max_pooling2d_18 (MaxPooling (None, 4, 4, 64)          0         \n",
      "_________________________________________________________________\n",
      "conv2d_19 (Conv2D)           (None, 4, 4, 64)          36928     \n",
      "_________________________________________________________________\n",
      "max_pooling2d_19 (MaxPooling (None, 2, 2, 64)          0         \n",
      "_________________________________________________________________\n",
      "flatten_4 (Flatten)          (None, 256)               0         \n",
      "_________________________________________________________________\n",
      "dense_4 (Dense)              (None, 10)                2570      \n",
      "=================================================================\n",
      "Total params: 115,146\n",
      "Trainable params: 115,146\n",
      "Non-trainable params: 0\n",
      "_________________________________________________________________\n",
      "None\n",
      "Train on 50000 samples, validate on 10000 samples\n",
      "Epoch 1/10\n",
      "50000/50000 [==============================] - 6s 125us/sample - loss: 1.5276 - categorical_accuracy: 0.4448 - val_loss: 1.2360 - val_categorical_accuracy: 0.5623\n",
      "Epoch 2/10\n",
      "50000/50000 [==============================] - 6s 119us/sample - loss: 1.0979 - categorical_accuracy: 0.6100 - val_loss: 1.0917 - val_categorical_accuracy: 0.6099\n",
      "Epoch 3/10\n",
      "50000/50000 [==============================] - 6s 119us/sample - loss: 0.9131 - categorical_accuracy: 0.6803 - val_loss: 0.9086 - val_categorical_accuracy: 0.6846\n",
      "Epoch 4/10\n",
      "50000/50000 [==============================] - 6s 113us/sample - loss: 0.8042 - categorical_accuracy: 0.7201 - val_loss: 0.8501 - val_categorical_accuracy: 0.7036\n",
      "Epoch 5/10\n",
      "50000/50000 [==============================] - 6s 113us/sample - loss: 0.7244 - categorical_accuracy: 0.7446 - val_loss: 0.8549 - val_categorical_accuracy: 0.7060\n",
      "Epoch 6/10\n",
      "50000/50000 [==============================] - 6s 117us/sample - loss: 0.6517 - categorical_accuracy: 0.7748 - val_loss: 0.7938 - val_categorical_accuracy: 0.7272\n",
      "Epoch 7/10\n",
      "50000/50000 [==============================] - 6s 117us/sample - loss: 0.5970 - categorical_accuracy: 0.7920 - val_loss: 0.7741 - val_categorical_accuracy: 0.7360\n",
      "Epoch 8/10\n",
      "50000/50000 [==============================] - 6s 118us/sample - loss: 0.5534 - categorical_accuracy: 0.8083 - val_loss: 0.8292 - val_categorical_accuracy: 0.7144\n",
      "Epoch 9/10\n",
      "50000/50000 [==============================] - 6s 118us/sample - loss: 0.5126 - categorical_accuracy: 0.8210 - val_loss: 0.7880 - val_categorical_accuracy: 0.7380\n",
      "Epoch 10/10\n",
      "50000/50000 [==============================] - 6s 117us/sample - loss: 0.4655 - categorical_accuracy: 0.8368 - val_loss: 0.8620 - val_categorical_accuracy: 0.7327\n"
     ]
    }
   ],
   "source": [
    "m = create_model()\n",
    "print(m.summary())\n",
    "\n",
    "history = m.fit(x_train, y_train, epochs=10, batch_size=64, validation_data=(x_val, y_val))"
   ]
  },
  {
   "cell_type": "code",
   "execution_count": 54,
   "metadata": {},
   "outputs": [
    {
     "data": {
      "text/plain": [
       "<matplotlib.legend.Legend at 0x12e10facfc8>"
      ]
     },
     "execution_count": 54,
     "metadata": {},
     "output_type": "execute_result"
    },
    {
     "data": {
      "image/png": "[encoded data removed]",
      "text/plain": [
       "<Figure size 432x288 with 1 Axes>"
      ]
     },
     "metadata": {
      "needs_background": "light"
     },
     "output_type": "display_data"
    }
   ],
   "source": [
    "plt.plot(history.history['categorical_accuracy'], label='categorical_accuracy')\n",
    "plt.plot(history.history['val_categorical_accuracy'], label='val_categorical_accuracy')\n",
    "plt.xlabel('Epoch')\n",
    "plt.ylabel('Accuracy')\n",
    "plt.ylim([0.5, 1])\n",
    "plt.legend(loc='lower right')"
   ]
  },
  {
   "cell_type": "code",
   "execution_count": 62,
   "metadata": {},
   "outputs": [
    {
     "name": "stdout",
     "output_type": "stream",
     "text": [
      "10000/1 - 1s - loss: 0.9316 - categorical_accuracy: 0.7327\n",
      "0.7327\n",
      "[9.4066089e-01 1.3874502e-04 3.9611668e-03 1.8789628e-04 6.7503820e-03\n",
      " 8.8109235e-05 3.5605051e-05 2.1555834e-04 4.7800738e-02 1.6095869e-04]\n",
      "[1. 0. 0. 0. 0. 0. 0. 0. 0. 0.]\n",
      "0\n"
     ]
    }
   ],
   "source": [
    "test_loss, test_acc = m.evaluate(x_val, y_val, verbose=2)\n",
    "print(test_acc)\n",
    "\n",
    "predict = m.predict(x_val)\n",
    "print(predict[10])\n",
    "print(y_val[10])\n",
    "print(np.argmax(predict[10]))\n"
   ]
  }
 ],
 "metadata": {
  "kernelspec": {
   "display_name": "Python 3",
   "language": "python",
   "name": "python3"
  },
  "language_info": {
   "codemirror_mode": {
    "name": "ipython",
    "version": 3
   },
   "file_extension": ".py",
   "mimetype": "text/x-python",
   "name": "python",
   "nbconvert_exporter": "python",
   "pygments_lexer": "ipython3",
   "version": "3.7.5"
  }
 },
 "nbformat": 4,
 "nbformat_minor": 2
}
