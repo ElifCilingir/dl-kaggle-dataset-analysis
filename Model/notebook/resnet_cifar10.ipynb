{
 "cells": [
  {
   "cell_type": "code",
   "execution_count": 6,
   "metadata": {},
   "outputs": [],
   "source": [
    "import tensorflow as tf\n",
    "import matplotlib.pyplot as plt\n",
    "from tensorflow.keras.activations import *\n",
    "from tensorflow.keras.datasets import *\n",
    "from tensorflow.keras.layers import *\n",
    "from tensorflow.keras.metrics import *\n",
    "from tensorflow.keras.models import *\n",
    "from tensorflow.keras.optimizers import *\n",
    "from tensorflow.keras.regularizers import l2\n",
    "from tensorflow.keras.utils import plot_model"
   ]
  },
  {
   "cell_type": "code",
   "execution_count": 7,
   "metadata": {},
   "outputs": [],
   "source": [
    "# training parameters\n",
    "BATCH_SIZE = 64\n",
    "EPOCHS = 50\n",
    "DROPOUT_RATE = 0.2\n",
    "FILTERS = 64\n",
    "NB_CLASS = 10\n",
    "SKIP = 3"
   ]
  },
  {
   "cell_type": "code",
   "execution_count": 8,
   "metadata": {},
   "outputs": [],
   "source": [
    "def Residual_layer(inputs,\n",
    "                   filters=FILTERS,\n",
    "                   kernel_size=3,\n",
    "                   activation=relu,\n",
    "                   strides=1,\n",
    "                   batch_norm=True,\n",
    "                   conf_first=True):\n",
    "\n",
    "    conv = Conv2D(filters,\n",
    "                  kernel_size=kernel_size,\n",
    "                  strides=strides,\n",
    "                  kernel_initializer='he_normal',\n",
    "                  padding='same')\n",
    "    x = inputs\n",
    "    if conf_first:\n",
    "        x = conv(x)\n",
    "    else:\n",
    "        if batch_norm:\n",
    "            x = BatchNormalization()(x)\n",
    "            if activation is not None:\n",
    "                x = Activation(activation)(x)\n",
    "            x = conv(x)\n",
    "            x = Dropout(DROPOUT_RATE)(x)\n",
    "    return x"
   ]
  },
  {
   "cell_type": "code",
   "execution_count": 9,
   "metadata": {},
   "outputs": [],
   "source": [
    "def resnet_model(input_shape, depth, num_classes=NB_CLASS):\n",
    "\n",
    "    filter = 16\n",
    "    num_res_layer = int((depth - 2) / 6)\n",
    "\n",
    "    inputs = Input(shape=input_shape)\n",
    "    x = Residual_layer(inputs=inputs)\n",
    "    for stack in range(3):\n",
    "        for i in range(num_res_layer):\n",
    "            strides = 1\n",
    "            if stack > 0 and i ==0:\n",
    "                strides = 2\n",
    "            y = Residual_layer(inputs=x,\n",
    "                               filters=filter,\n",
    "                               strides=strides)\n",
    "\n",
    "            y = Residual_layer(inputs=y,\n",
    "                               filters=filter,\n",
    "                               activation=None)\n",
    "\n",
    "            if strides > 0 and i ==0:\n",
    "\n",
    "                x = Residual_layer(inputs=x,\n",
    "                                   filters=filter,\n",
    "                                   kernel_size=1,\n",
    "                                   strides=strides,\n",
    "                                   activation=None,\n",
    "                                   batch_norm=False)\n",
    "            x = add([x, y])\n",
    "            x = Activation(relu)(x)\n",
    "        filter = filter*2\n",
    "\n",
    "    x = MaxPool2D(pool_size=8)(x)\n",
    "    y = Flatten()(x)\n",
    "\n",
    "    output = Dense(num_classes, activation=softmax, kernel_initializer='he_normal', name=f\"dense_output\")(y)\n",
    "    model = Model(inputs=inputs,outputs=output)\n",
    "\n",
    "    return  model\n"
   ]
  },
  {
   "cell_type": "code",
   "execution_count": null,
   "metadata": {},
   "outputs": [],
   "source": [
    "tf.compat.v1.disable_eager_execution()\n",
    "\n",
    "(x_train, y_train), (x_val, y_val) = cifar10.load_data()\n",
    "\n",
    "input_shape = x_train.shape[1:]\n",
    "depth = SKIP * 6 + 2\n",
    "\n",
    "x_train = x_train / 255.0\n",
    "x_val = x_val / 255.0\n",
    "m = resnet_model(input_shape, depth)\n",
    "\n",
    "#Compilation du modèle\n",
    "m.compile(Adam(0.001), loss='sparse_categorical_crossentropy' , metrics=['accuracy'])\n",
    "print(m.summary())\n",
    "plot_model(m, \"../Resnet_model.png\")\n",
    "\n",
    "m.fit(x_train, y_train,\n",
    "      validation_data=(x_val, y_val),\n",
    "      epochs=EPOCHS,\n",
    "      batch_size=BATCH_SIZE)\n"
   ]
  }
 ],
 "metadata": {
  "kernelspec": {
   "display_name": "Python 3",
   "language": "python",
   "name": "python3"
  },
  "language_info": {
   "codemirror_mode": {
    "name": "ipython",
    "version": 3
   },
   "file_extension": ".py",
   "mimetype": "text/x-python",
   "name": "python",
   "nbconvert_exporter": "python",
   "pygments_lexer": "ipython3",
   "version": "3.7.5"
  }
 },
 "nbformat": 4,
 "nbformat_minor": 2
}
