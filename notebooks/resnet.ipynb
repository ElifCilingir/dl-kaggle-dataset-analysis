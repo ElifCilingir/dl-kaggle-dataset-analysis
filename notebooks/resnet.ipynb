{
 "cells": [
  {
   "cell_type": "markdown",
   "metadata": {
    "collapsed": true,
    "pycharm": {
     "name": "#%% md\n"
    }
   },
   "source": [
    "# <u>Residual Neural Network</u>"
   ]
  },
  {
   "cell_type": "markdown",
   "source": [
    "Le Residual Neural Network, aussi appelé ResNet est un réseau de neurones artificiel\n",
    "basé sur le système de cellules pyramidales dans le cortex cérébral. Le ResNet effectue\n",
    "ce type de processus en utilisant les \"skip connections\" qui permettent de passer outre\n",
    "certaines couches. Les modèles ResNet typiques sont implémentés en utilisant des doubles voir des\n",
    "triples skip connection qui contiennent des fonctions d'activation ReLU et des batch normalization \n",
    "entre eux.\n",
    "\n",
    "Le ResNet est populaire par sa capacité à corriger les problèmes de convergence des réseaux\n",
    "profonds. "
   ],
   "metadata": {
    "collapsed": false,
    "pycharm": {
     "name": "#%% md\n"
    }
   }
  }
 ],
 "metadata": {
  "kernelspec": {
   "display_name": "Python 3",
   "language": "python",
   "name": "python3"
  },
  "language_info": {
   "codemirror_mode": {
    "name": "ipython",
    "version": 2
   },
   "file_extension": ".py",
   "mimetype": "text/x-python",
   "name": "python",
   "nbconvert_exporter": "python",
   "pygments_lexer": "ipython2",
   "version": "2.7.6"
  },
  "pycharm": {
   "stem_cell": {
    "cell_type": "raw",
    "source": [],
    "metadata": {
     "collapsed": false
    }
   }
  }
 },
 "nbformat": 4,
 "nbformat_minor": 0
}