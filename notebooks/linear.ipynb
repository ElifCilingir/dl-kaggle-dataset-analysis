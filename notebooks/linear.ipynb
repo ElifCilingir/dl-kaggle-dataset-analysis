{
 "cells": [
  {
   "cell_type": "markdown",
   "metadata": {},
   "source": [
    "# <u>Modèle linéaire</u>"
   ]
  },
  {
   "cell_type": "markdown",
   "metadata": {},
   "source": [
    "Le premier objectif du code ici présent, est de vérifier si il est possible de créer un modèle linéaire et si une regression linéaire peut-être utile pour classifier des images.\n",
    "\n",
    "Dans un premier temps, il est important de savoir que la classification d'image va dépendre des composantes principales d'une image :\n",
    "\n",
    "- Les pixels indiqués en RGB\n",
    "- Des composantes déterminées par réduction de dimension ou par groupement de composantes."
   ]
  },
  {
   "cell_type": "markdown",
   "metadata": {},
   "source": [
    "### Imports"
   ]
  },
  {
   "cell_type": "code",
   "execution_count": 2,
   "metadata": {},
   "outputs": [
    {
     "ename": "ModuleNotFoundError",
     "evalue": "No module named 'sklearn'",
     "output_type": "error",
     "traceback": [
      "\u001b[1;31m---------------------------------------------------------------------------\u001b[0m",
      "\u001b[1;31mModuleNotFoundError\u001b[0m                       Traceback (most recent call last)",
      "\u001b[1;32m<ipython-input-2-efb90fdce3f0>\u001b[0m in \u001b[0;36m<module>\u001b[1;34m\u001b[0m\n\u001b[0;32m      4\u001b[0m \u001b[1;32mimport\u001b[0m \u001b[0mmatplotlib\u001b[0m\u001b[1;33m.\u001b[0m\u001b[0mpatches\u001b[0m \u001b[1;32mas\u001b[0m \u001b[0mmpatches\u001b[0m\u001b[1;33m\u001b[0m\u001b[1;33m\u001b[0m\u001b[0m\n\u001b[0;32m      5\u001b[0m \u001b[1;32mimport\u001b[0m \u001b[0mnumpy\u001b[0m \u001b[1;32mas\u001b[0m \u001b[0mnp\u001b[0m\u001b[1;33m\u001b[0m\u001b[1;33m\u001b[0m\u001b[0m\n\u001b[1;32m----> 6\u001b[1;33m \u001b[1;32mfrom\u001b[0m \u001b[0msklearn\u001b[0m\u001b[1;33m.\u001b[0m\u001b[0mlinear_model\u001b[0m \u001b[1;32mimport\u001b[0m \u001b[0mLinearRegression\u001b[0m\u001b[1;33m\u001b[0m\u001b[1;33m\u001b[0m\u001b[0m\n\u001b[0m\u001b[0;32m      7\u001b[0m \u001b[1;32mimport\u001b[0m \u001b[0mrandom\u001b[0m \u001b[1;32mas\u001b[0m \u001b[0mrand\u001b[0m\u001b[1;33m\u001b[0m\u001b[1;33m\u001b[0m\u001b[0m\n\u001b[0;32m      8\u001b[0m \u001b[1;32mfrom\u001b[0m \u001b[0msklearn\u001b[0m\u001b[1;33m.\u001b[0m\u001b[0mdecomposition\u001b[0m \u001b[1;32mimport\u001b[0m \u001b[0mPCA\u001b[0m\u001b[1;33m\u001b[0m\u001b[1;33m\u001b[0m\u001b[0m\n",
      "\u001b[1;31mModuleNotFoundError\u001b[0m: No module named 'sklearn'"
     ]
    }
   ],
   "source": [
    "import tensorflow as tf\n",
    "from tensorflow.keras.datasets import cifar10\n",
    "import matplotlib.pyplot as plt\n",
    "import matplotlib.patches as mpatches\n",
    "import numpy as np\n",
    "from sklearn.linear_model import LinearRegression\n",
    "import random as rand\n",
    "from sklearn.decomposition import PCA"
   ]
  },
  {
   "cell_type": "markdown",
   "metadata": {},
   "source": [
    "### Chargement de CIFAR-10 dans des variables d'entrainement et de validation"
   ]
  },
  {
   "cell_type": "code",
   "execution_count": null,
   "metadata": {},
   "outputs": [],
   "source": [
    "(x_train, y_train), (x_test, y_test) = cifar10.load_data()"
   ]
  },
  {
   "cell_type": "markdown",
   "metadata": {},
   "source": [
    "### Définition des fonctions"
   ]
  },
  {
   "cell_type": "code",
   "execution_count": null,
   "metadata": {},
   "outputs": [],
   "source": [
    "def show_samples(x_train, y_train):\n",
    "    for i in range(10):\n",
    "      plt.imshow(x_train[i])\n",
    "      print(y_train[i])\n",
    "      plt.show()"
   ]
  },
  {
   "cell_type": "code",
   "execution_count": null,
   "metadata": {},
   "outputs": [],
   "source": [
    "def plot_rgb_comparison(abs_index,ord_index,legend_colors,legend_labels,title=None,xlabel=None,ylabel=None):\n",
    "  for i in range(100):\n",
    "    X_to_plot = X[i][abs_index]\n",
    "    Y_to_plot = X[i][ord_index]\n",
    "    plt.plot(X_to_plot, Y_to_plot, \"-o\", c=color[(int(y[i]) - 1)])\n",
    "  if title:\n",
    "    plt.title(title)\n",
    "  if xlabel:\n",
    "    plt.xlabel(xlabel)\n",
    "  if ylabel:\n",
    "    plt.ylabel(ylabel)\n",
    "  handles = []\n",
    "  for i in range(10):\n",
    "    handles.append(mpatches.Patch(color=legend_colors[i], label=legend_labels[i]))\n",
    "  plt.legend(handles=handles,loc='center left', bbox_to_anchor=(1, 0.5))\n",
    "  plt.show() "
   ]
  },
  {
   "cell_type": "markdown",
   "metadata": {},
   "source": [
    "## Classification d'images directement par les pixels"
   ]
  },
  {
   "cell_type": "code",
   "execution_count": null,
   "metadata": {},
   "outputs": [],
   "source": [
    "X = x_train.reshape(50000,32*32*3)\n",
    "y = y_train"
   ]
  },
  {
   "cell_type": "code",
   "execution_count": null,
   "metadata": {},
   "outputs": [],
   "source": [
    "color = ['gray','rosybrown','darksalmon','bisque','tan','gold','darkkhaki','olivedrab','royalblue','plum']\n",
    "labels = ['airplane','automobile','bird','cat','deer','dog','frog','horse','ship','truck']\n",
    "\n",
    "red_index = 0\n",
    "green_index = 1\n",
    "blue_index = 2"
   ]
  },
  {
   "cell_type": "markdown",
   "metadata": {},
   "source": [
    "### Rapport entre le <span style=\"color:green;\">vert</span> et le <span style=\"color:red;\">rouge</span>"
   ]
  },
  {
   "cell_type": "code",
   "execution_count": null,
   "metadata": {},
   "outputs": [],
   "source": [
    "plot_rgb_comparison(\n",
    "    red_index,\n",
    "    green_index,\n",
    "    color,\n",
    "    labels,\n",
    "    title=\"Rapport de couleur en fonction des classes\",\n",
    "    xlabel=\"Niveau de rouge (0-255)\",\n",
    "    ylabel=\"Niveau de vert (0-255)\"\n",
    ")"
   ]
  },
  {
   "cell_type": "markdown",
   "metadata": {},
   "source": [
    "### Rapport entre le <span style=\"color:blue;\">bleu</span> et le <span style=\"color:red;\">rouge</span>"
   ]
  },
  {
   "cell_type": "code",
   "execution_count": null,
   "metadata": {},
   "outputs": [],
   "source": [
    "plot_rgb_comparison(\n",
    "    red_index,\n",
    "    blue_index,\n",
    "    color,\n",
    "    labels,\n",
    "    xlabel=\"Niveau de rouge (0-255)\",\n",
    "    ylabel=\"Niveau de bleu (0-255)\"\n",
    ")"
   ]
  },
  {
   "cell_type": "markdown",
   "metadata": {},
   "source": [
    "### Rapport entre le <span style=\"color:blue;\">bleu</span> et le <span style=\"color:green;\">vert</span>"
   ]
  },
  {
   "cell_type": "code",
   "execution_count": null,
   "metadata": {},
   "outputs": [],
   "source": [
    "plot_rgb_comparison(\n",
    "    green_index,\n",
    "    blue_index,\n",
    "    color,\n",
    "    labels,\n",
    "    xlabel=\"Niveau de vert (0-255)\",\n",
    "    ylabel=\"Niveau de bleu (0-255)\"\n",
    ")"
   ]
  },
  {
   "cell_type": "markdown",
   "metadata": {},
   "source": [
    "On réalise alors que les composantes ne sont peut-être pas aussi évidentes qu'elles en ont l'air. En essayant de distinguer\n",
    "des composantes plus importantes, on pourrait éventuellement effectuer une séparation linéaire des classes."
   ]
  },
  {
   "cell_type": "markdown",
   "metadata": {},
   "source": [
    "## Classification d'images par PCA"
   ]
  },
  {
   "cell_type": "code",
   "execution_count": null,
   "metadata": {},
   "outputs": [],
   "source": []
  }
 ],
 "metadata": {
  "kernelspec": {
   "display_name": "Python 3",
   "language": "python",
   "name": "python3"
  },
  "language_info": {
   "codemirror_mode": {
    "name": "ipython",
    "version": 3
   },
   "file_extension": ".py",
   "mimetype": "text/x-python",
   "name": "python",
   "nbconvert_exporter": "python",
   "pygments_lexer": "ipython3",
   "version": "3.7.5"
  }
 },
 "nbformat": 4,
 "nbformat_minor": 2
}
